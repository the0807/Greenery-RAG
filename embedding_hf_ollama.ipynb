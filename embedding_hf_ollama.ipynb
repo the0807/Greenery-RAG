{
 "cells": [
  {
   "cell_type": "code",
   "execution_count": 1,
   "metadata": {},
   "outputs": [
    {
     "name": "stderr",
     "output_type": "stream",
     "text": [
      "/tmp/ipykernel_3219260/3779128832.py:3: DeprecationWarning: \n",
      "Pyarrow will become a required dependency of pandas in the next major release of pandas (pandas 3.0),\n",
      "(to allow more performant data types, such as the Arrow string type, and better interoperability with other libraries)\n",
      "but was not found to be installed on your system.\n",
      "If this would cause problems for you,\n",
      "please provide us feedback at https://github.com/pandas-dev/pandas/issues/54466\n",
      "        \n",
      "  import pandas as pd\n"
     ]
    }
   ],
   "source": [
    "import ollama\n",
    "import chromadb\n",
    "import pandas as pd\n",
    "import chromadb.utils.embedding_functions as embedding_functions\n",
    "import config"
   ]
  },
  {
   "cell_type": "code",
   "execution_count": 2,
   "metadata": {},
   "outputs": [
    {
     "data": {
      "text/html": [
       "<div>\n",
       "<style scoped>\n",
       "    .dataframe tbody tr th:only-of-type {\n",
       "        vertical-align: middle;\n",
       "    }\n",
       "\n",
       "    .dataframe tbody tr th {\n",
       "        vertical-align: top;\n",
       "    }\n",
       "\n",
       "    .dataframe thead th {\n",
       "        text-align: right;\n",
       "    }\n",
       "</style>\n",
       "<table border=\"1\" class=\"dataframe\">\n",
       "  <thead>\n",
       "    <tr style=\"text-align: right;\">\n",
       "      <th></th>\n",
       "      <th>text</th>\n",
       "    </tr>\n",
       "  </thead>\n",
       "  <tbody>\n",
       "    <tr>\n",
       "      <th>0</th>\n",
       "      <td>재활용품은 재질별로 분류하여 분리수거함 및 별도의 전용수거함으로 배출한다.</td>\n",
       "    </tr>\n",
       "    <tr>\n",
       "      <th>1</th>\n",
       "      <td>대형 폐가전제품은 무상 방문 수거를 신청한다. 소형 폐가전제품도 같이 수거 가능하다.</td>\n",
       "    </tr>\n",
       "    <tr>\n",
       "      <th>2</th>\n",
       "      <td>대형폐기물은 배출스티커를 붙히거나 인터넷 신청을 통해 수거 요청을 한다. 또는, 재...</td>\n",
       "    </tr>\n",
       "    <tr>\n",
       "      <th>3</th>\n",
       "      <td>음식물류폐기물는 RFID 기반 음식물 폐기장을 사용하거나 종량제봉투에 담아 배출한다...</td>\n",
       "    </tr>\n",
       "    <tr>\n",
       "      <th>4</th>\n",
       "      <td>유해폐기물로 구분된 폐전건지, 형광등, 폐의약품은 전용수거함을 이용한다.</td>\n",
       "    </tr>\n",
       "  </tbody>\n",
       "</table>\n",
       "</div>"
      ],
      "text/plain": [
       "                                                text\n",
       "0          재활용품은 재질별로 분류하여 분리수거함 및 별도의 전용수거함으로 배출한다.\n",
       "1    대형 폐가전제품은 무상 방문 수거를 신청한다. 소형 폐가전제품도 같이 수거 가능하다.\n",
       "2  대형폐기물은 배출스티커를 붙히거나 인터넷 신청을 통해 수거 요청을 한다. 또는, 재...\n",
       "3  음식물류폐기물는 RFID 기반 음식물 폐기장을 사용하거나 종량제봉투에 담아 배출한다...\n",
       "4           유해폐기물로 구분된 폐전건지, 형광등, 폐의약품은 전용수거함을 이용한다."
      ]
     },
     "execution_count": 2,
     "metadata": {},
     "output_type": "execute_result"
    }
   ],
   "source": [
    "with open('data/recycling guide.txt', 'r') as file:\n",
    "    lines = [line.strip() for line in file.readlines() if line.strip()]\n",
    "    \n",
    "data = {'text': lines}\n",
    "df = pd.DataFrame(data)\n",
    "\n",
    "df.head()"
   ]
  },
  {
   "cell_type": "code",
   "execution_count": 3,
   "metadata": {},
   "outputs": [
    {
     "data": {
      "text/html": [
       "<div>\n",
       "<style scoped>\n",
       "    .dataframe tbody tr th:only-of-type {\n",
       "        vertical-align: middle;\n",
       "    }\n",
       "\n",
       "    .dataframe tbody tr th {\n",
       "        vertical-align: top;\n",
       "    }\n",
       "\n",
       "    .dataframe thead th {\n",
       "        text-align: right;\n",
       "    }\n",
       "</style>\n",
       "<table border=\"1\" class=\"dataframe\">\n",
       "  <thead>\n",
       "    <tr style=\"text-align: right;\">\n",
       "      <th></th>\n",
       "      <th>text</th>\n",
       "    </tr>\n",
       "  </thead>\n",
       "  <tbody>\n",
       "    <tr>\n",
       "      <th>243</th>\n",
       "      <td>식품보조제 콜라겐가루가 남았는데 어떻게 버려야 하나요? 일반쓰레기로 버려야 하나요 ...</td>\n",
       "    </tr>\n",
       "    <tr>\n",
       "      <th>244</th>\n",
       "      <td>섬유유연제가 걸쭉하니 굳어가네요. 남은 양이 꽤 많은데 하수구에 버리자니 막힐 것 ...</td>\n",
       "    </tr>\n",
       "    <tr>\n",
       "      <th>245</th>\n",
       "      <td>다 쓴 프린터잉크 (페카트리지)는 어떻게 배출하나요?? 저희 읍에서는 종량제봉투에 ...</td>\n",
       "    </tr>\n",
       "    <tr>\n",
       "      <th>246</th>\n",
       "      <td>최근 아이스팩이 심각한 수질오염을 일으킬 수 있다는 얘기를 접했습니다. 단순히 종량...</td>\n",
       "    </tr>\n",
       "    <tr>\n",
       "      <th>247</th>\n",
       "      <td>택배 올 때 비닐로 된 포장재가 있습니다. 뽁뽁이 말고요~ 연두빛 비닐인데, 산화 ...</td>\n",
       "    </tr>\n",
       "  </tbody>\n",
       "</table>\n",
       "</div>"
      ],
      "text/plain": [
       "                                                  text\n",
       "243  식품보조제 콜라겐가루가 남았는데 어떻게 버려야 하나요? 일반쓰레기로 버려야 하나요 ...\n",
       "244  섬유유연제가 걸쭉하니 굳어가네요. 남은 양이 꽤 많은데 하수구에 버리자니 막힐 것 ...\n",
       "245  다 쓴 프린터잉크 (페카트리지)는 어떻게 배출하나요?? 저희 읍에서는 종량제봉투에 ...\n",
       "246  최근 아이스팩이 심각한 수질오염을 일으킬 수 있다는 얘기를 접했습니다. 단순히 종량...\n",
       "247  택배 올 때 비닐로 된 포장재가 있습니다. 뽁뽁이 말고요~ 연두빛 비닐인데, 산화 ..."
      ]
     },
     "execution_count": 3,
     "metadata": {},
     "output_type": "execute_result"
    }
   ],
   "source": [
    "df.tail()"
   ]
  },
  {
   "cell_type": "code",
   "execution_count": 4,
   "metadata": {},
   "outputs": [
    {
     "name": "stdout",
     "output_type": "stream",
     "text": [
      "DataFrame의 줄 개수: 248\n"
     ]
    }
   ],
   "source": [
    "num_rows = df.shape[0]\n",
    "print(\"DataFrame의 줄 개수:\", num_rows)"
   ]
  },
  {
   "cell_type": "code",
   "execution_count": 5,
   "metadata": {},
   "outputs": [],
   "source": [
    "huggingface_ef = embedding_functions.HuggingFaceEmbeddingFunction(\n",
    "    api_key=config.API['hugging_face'],\n",
    "    model_name=\"BAAI/bge-m3\"\n",
    "    #model_name=\"sentence-transformers/paraphrase-multilingual-mpnet-base-v2\"\n",
    "    #model_name=\"sentence-transformers/paraphrase-multilingual-MiniLM-L12-v2\"\n",
    ")\n",
    "\n",
    "client = chromadb.PersistentClient(path=\"DB_recycling\")\n",
    "collection = client.get_or_create_collection(name=\"recycling_chroma\", embedding_function=huggingface_ef)\n",
    "\n",
    "docs = df[\"text\"].tolist()\n",
    "ids = [str(x) for x in df.index.tolist()]\n",
    "\n",
    "collection.add(\n",
    "    documents = docs,\n",
    "    ids = ids\n",
    ")"
   ]
  },
  {
   "cell_type": "code",
   "execution_count": 8,
   "metadata": {},
   "outputs": [
    {
     "name": "stdout",
     "output_type": "stream",
     "text": [
      "페트병류인 페트병은  내용물을 비우고 물로 헹궈 이물질을 제거하여 배출한다. 부착상표, 부속품 등 본체와 다른 재질은 제거한 후 배출한다.\n",
      "페트병에 담배꽁초, 이물질이 묻은 경우 어떻게 배출하나요? 가급적 내용물을 깨끗이 씻어 페트병에 배출합니다.\n",
      "어린이용 시럽 감기약 남은 것, 병원 처방 받은 가루약 남은 것 등 의약품 폐기는 어떻게 해야 하나? 폐의약품은 약국, 보건소 등으로 배출하면 되며, 수거된 폐의약품은 소각처리 됩니다.\n",
      "집에서 소화기가 오래되서 새로 하나 사서 그전의 것은 버리려 하는데 어떻게 버릴까요? 분말소화기는 ‘소방시설법 시행령 제15조의4’에 따라 유효기간 10년이 지날 경우 폐기해야 한다. 또 폐기할 소화기는 폐기물관리법 시행규칙 제4조의2(폐기물의 종류 및 재활용 유형) 및 동법 시행규칙 별표 4의3(폐기물의 종류별 재활용 가능 유형) 3.생활폐기물(분류번호 91-19-00 폐소화기류)로 분류돼 관할 시･군･구에 신고 후 배출해야 합니다. 이러한 폐소화기는 생활폐기물 신고필증을 부착 후 배출하거나 폐기물 수거업체에 수수료를 내고 방문 수거를 요청하는 등의 방식으로 처리하고 있으나, 지자체별로 처리방법이 다르니 관할 지자체에 문의하신 후 배출하여 주시기 바랍니다.\n",
      "생수 페트병 같은 경우 납작하게 찌그러트려서 배출해도 되나요? 페트병과 플라스틱 용기 등은 재활용선별장에서 선별후에 각각 기계적 압축과정을 거쳐서 재활용업체로 보내집니다. 가정에서 배출하실 때는 압축을 해서 배출하셔도 되고 그 상태로 배출하셔도 됩니다.\n"
     ]
    }
   ],
   "source": [
    "\n",
    "results = collection.query(\n",
    "    query_texts=[\"폐트병은 어떻게 버려?\"],\n",
    "    n_results=5\n",
    ")\n",
    "\n",
    "res = \"\\n\".join(str(item) for item in results['documents'][0])\n",
    "\n",
    "print(res)"
   ]
  },
  {
   "cell_type": "code",
   "execution_count": 9,
   "metadata": {},
   "outputs": [
    {
     "name": "stdout",
     "output_type": "stream",
     "text": [
      " 페트병은 깨끗이 씻어 내용물을 비우고 물로 헹궈 이물질을 제거하여 배출한다. 부착상표, 부속품 등 본체와 다른 재질은 제거한 후 배출하며, 분리배출할 수 있도록 ‘페트병’이라고 표시된 별도의 용기에 담아 배출하도록 하고 있습니다.\n",
      "음식점이나 주점에서 사용하는 소주병은 어떻게 해야 하나요? 음식물류 폐기물은 음식물과 함께 버려야 한다고 알고 계신데, 음식물류폐기물을 따로 분리배출하고 있으므로, 일반쓰레기에 혼합되지 않도록 잘라서 종량제봉투에 담아 배출해 주시면 감사하겠습니다.\n",
      "가정에서 버릴 수 없는 페트병은 어떻게 처리해야 하나요? 1회용 커피숍의 페트병(커피전문점, 편의점 등)과 병원 처방받은 가루약 등 의약품 폐기물은 관할 시･군･구에 신고 후 배출하면 됩니다. 이러한 폐소화기는 생활폐기물 신고필증을 부착 후 배출하거나 폐기물 수거업체에 수수료를 내고 방문 수거를 요청하는 등의 방식으로 처리하고 있으나, 지자체별로 처리방법이 다르니 관할 지자체에 문의하신 후 배출하여 주시기 바랍니다.\n",
      "\n"
     ]
    }
   ],
   "source": [
    "sys_prompt = f'''\n",
    "너는 재활용 전문가로 활동하고 있어.\n",
    "사람들이 재활용 방법을 물어보면 너는 주어진 Context를 바탕으로 질문에 해당하는 내용만 짧게 요약해서 답해줘야해.\n",
    "\n",
    "Context: {res}\n",
    "'''\n",
    "\n",
    "prompt = '폐트병은 어떻게 버려?'\n",
    "\n",
    "messages = sys_prompt + '\\n' + prompt\n",
    "\n",
    "output = ollama.generate(\n",
    "  model=\"Llama3_ko\",\n",
    "  prompt=messages\n",
    ")\n",
    "\n",
    "print(output['response'])"
   ]
  },
  {
   "cell_type": "code",
   "execution_count": null,
   "metadata": {},
   "outputs": [],
   "source": []
  },
  {
   "cell_type": "code",
   "execution_count": null,
   "metadata": {},
   "outputs": [],
   "source": []
  }
 ],
 "metadata": {
  "kernelspec": {
   "display_name": "greenery2",
   "language": "python",
   "name": "python3"
  },
  "language_info": {
   "codemirror_mode": {
    "name": "ipython",
    "version": 3
   },
   "file_extension": ".py",
   "mimetype": "text/x-python",
   "name": "python",
   "nbconvert_exporter": "python",
   "pygments_lexer": "ipython3",
   "version": "3.10.13"
  }
 },
 "nbformat": 4,
 "nbformat_minor": 2
}
